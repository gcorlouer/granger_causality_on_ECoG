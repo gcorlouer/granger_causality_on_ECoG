{
 "cells": [
  {
   "cell_type": "code",
   "execution_count": 1,
   "id": "e4c8d9bf",
   "metadata": {},
   "outputs": [],
   "source": [
    "# Import libraries\n",
    "import matplotlib.pyplot as plt\n",
    "import pandas as pd\n",
    "import numpy as np\n",
    "\n",
    "#from src.time_frequency import plot_tf\n",
    "from pathlib import Path\n",
    "from mne.viz import centers_to_edges"
   ]
  },
  {
   "cell_type": "code",
   "execution_count": 2,
   "id": "86419089",
   "metadata": {},
   "outputs": [],
   "source": [
    "plt.style.use('ggplot')\n",
    "fig_width = 16  # figure width in cm\n",
    "inches_per_cm = 0.393701               # Convert cm to inch\n",
    "golden_mean = (np.sqrt(5)-1.0)/2.0         # Aesthetic ratio\n",
    "fig_width = fig_width*inches_per_cm  # width in inches\n",
    "fig_height = fig_width*golden_mean      # height in inches\n",
    "fig_size =  [fig_width,fig_height]\n",
    "label_size = 10\n",
    "params = {'backend': 'ps',\n",
    "          'lines.linewidth': 1.5,\n",
    "          'axes.labelsize': label_size,\n",
    "          'axes.titlesize': label_size,\n",
    "          'font.size': label_size,\n",
    "          'legend.fontsize': label_size,\n",
    "          'xtick.labelsize': label_size,\n",
    "          'ytick.labelsize': label_size,\n",
    "          'text.usetex': False,\n",
    "          'figure.figsize': fig_size}\n",
    "plt.rcParams.update(params)"
   ]
  },
  {
   "cell_type": "code",
   "execution_count": 8,
   "id": "7d3b6175",
   "metadata": {},
   "outputs": [],
   "source": [
    "cohort_dic = {'AnRa': 'S0', 'ArLa': 'S1', 'DiAs': 'S2'}\n",
    "cifar_path = Path('~','projects','cifar').expanduser()\n",
    "fpath = cifar_path.joinpath('results')\n",
    "#fpath = fpath.joinpath(\"time_frequency.csv\")\n",
    "subject = 'DiAs'\n",
    "vmax = 15\n",
    "fname = \"tf_power_dataframe.pkl\"\n",
    "fpath = fpath.joinpath(fname)"
   ]
  },
  {
   "cell_type": "code",
   "execution_count": 9,
   "id": "26494812",
   "metadata": {},
   "outputs": [],
   "source": [
    "df = pd.read_pickle(fpath)\n",
    "conditions = ['Rest', 'Face', 'Place']\n",
    "groups = ['R','O','F']\n",
    "group_dic = {'R': 'Retinotopic', 'O':'Other', 'F':'Face'}\n",
    "ngroup = 3\n",
    "ncdt = 3"
   ]
  },
  {
   "cell_type": "code",
   "execution_count": 15,
   "id": "e93479f0",
   "metadata": {},
   "outputs": [
    {
     "ename": "IndexError",
     "evalue": "single positional indexer is out-of-bounds",
     "output_type": "error",
     "traceback": [
      "\u001b[0;31m---------------------------------------------------------------------------\u001b[0m",
      "\u001b[0;31mIndexError\u001b[0m                                Traceback (most recent call last)",
      "Input \u001b[0;32mIn [15]\u001b[0m, in \u001b[0;36m<cell line: 3>\u001b[0;34m()\u001b[0m\n\u001b[1;32m      6\u001b[0m freqs \u001b[38;5;241m=\u001b[39m df[\u001b[38;5;124m'\u001b[39m\u001b[38;5;124mfreqs\u001b[39m\u001b[38;5;124m'\u001b[39m]\u001b[38;5;241m.\u001b[39mloc[df[\u001b[38;5;124m'\u001b[39m\u001b[38;5;124msubject\u001b[39m\u001b[38;5;124m'\u001b[39m]\u001b[38;5;241m==\u001b[39msubject]\u001b[38;5;241m.\u001b[39mloc[df[\u001b[38;5;124m'\u001b[39m\u001b[38;5;124mcondition\u001b[39m\u001b[38;5;124m'\u001b[39m]\u001b[38;5;241m==\u001b[39mcondition]\u001b[38;5;241m.\u001b[39mloc[df[\u001b[38;5;124m'\u001b[39m\u001b[38;5;124mgroup\u001b[39m\u001b[38;5;124m'\u001b[39m]\u001b[38;5;241m==\u001b[39mgroup]\n\u001b[1;32m      7\u001b[0m time \u001b[38;5;241m=\u001b[39m df[\u001b[38;5;124m'\u001b[39m\u001b[38;5;124mtime\u001b[39m\u001b[38;5;124m'\u001b[39m]\u001b[38;5;241m.\u001b[39mloc[df[\u001b[38;5;124m'\u001b[39m\u001b[38;5;124msubject\u001b[39m\u001b[38;5;124m'\u001b[39m]\u001b[38;5;241m==\u001b[39msubject]\u001b[38;5;241m.\u001b[39mloc[df[\u001b[38;5;124m'\u001b[39m\u001b[38;5;124mcondition\u001b[39m\u001b[38;5;124m'\u001b[39m]\u001b[38;5;241m==\u001b[39mcondition]\u001b[38;5;241m.\u001b[39mloc[df[\u001b[38;5;124m'\u001b[39m\u001b[38;5;124mgroup\u001b[39m\u001b[38;5;124m'\u001b[39m]\u001b[38;5;241m==\u001b[39mgroup]\n\u001b[0;32m----> 8\u001b[0m power \u001b[38;5;241m=\u001b[39m \u001b[43mpower\u001b[49m\u001b[38;5;241;43m.\u001b[39;49m\u001b[43miloc\u001b[49m\u001b[43m[\u001b[49m\u001b[38;5;241;43m0\u001b[39;49m\u001b[43m]\u001b[49m\n\u001b[1;32m      9\u001b[0m freqs \u001b[38;5;241m=\u001b[39m freqs\u001b[38;5;241m.\u001b[39miloc[\u001b[38;5;241m0\u001b[39m]\n\u001b[1;32m     10\u001b[0m time \u001b[38;5;241m=\u001b[39m time\u001b[38;5;241m.\u001b[39miloc[\u001b[38;5;241m0\u001b[39m]\n",
      "File \u001b[0;32m~/anaconda3/envs/mne/lib/python3.10/site-packages/pandas/core/indexing.py:967\u001b[0m, in \u001b[0;36m_LocationIndexer.__getitem__\u001b[0;34m(self, key)\u001b[0m\n\u001b[1;32m    964\u001b[0m axis \u001b[38;5;241m=\u001b[39m \u001b[38;5;28mself\u001b[39m\u001b[38;5;241m.\u001b[39maxis \u001b[38;5;129;01mor\u001b[39;00m \u001b[38;5;241m0\u001b[39m\n\u001b[1;32m    966\u001b[0m maybe_callable \u001b[38;5;241m=\u001b[39m com\u001b[38;5;241m.\u001b[39mapply_if_callable(key, \u001b[38;5;28mself\u001b[39m\u001b[38;5;241m.\u001b[39mobj)\n\u001b[0;32m--> 967\u001b[0m \u001b[38;5;28;01mreturn\u001b[39;00m \u001b[38;5;28;43mself\u001b[39;49m\u001b[38;5;241;43m.\u001b[39;49m\u001b[43m_getitem_axis\u001b[49m\u001b[43m(\u001b[49m\u001b[43mmaybe_callable\u001b[49m\u001b[43m,\u001b[49m\u001b[43m \u001b[49m\u001b[43maxis\u001b[49m\u001b[38;5;241;43m=\u001b[39;49m\u001b[43maxis\u001b[49m\u001b[43m)\u001b[49m\n",
      "File \u001b[0;32m~/anaconda3/envs/mne/lib/python3.10/site-packages/pandas/core/indexing.py:1523\u001b[0m, in \u001b[0;36m_iLocIndexer._getitem_axis\u001b[0;34m(self, key, axis)\u001b[0m\n\u001b[1;32m   1520\u001b[0m     \u001b[38;5;28;01mraise\u001b[39;00m \u001b[38;5;167;01mTypeError\u001b[39;00m(\u001b[38;5;124m\"\u001b[39m\u001b[38;5;124mCannot index by location index with a non-integer key\u001b[39m\u001b[38;5;124m\"\u001b[39m)\n\u001b[1;32m   1522\u001b[0m \u001b[38;5;66;03m# validate the location\u001b[39;00m\n\u001b[0;32m-> 1523\u001b[0m \u001b[38;5;28;43mself\u001b[39;49m\u001b[38;5;241;43m.\u001b[39;49m\u001b[43m_validate_integer\u001b[49m\u001b[43m(\u001b[49m\u001b[43mkey\u001b[49m\u001b[43m,\u001b[49m\u001b[43m \u001b[49m\u001b[43maxis\u001b[49m\u001b[43m)\u001b[49m\n\u001b[1;32m   1525\u001b[0m \u001b[38;5;28;01mreturn\u001b[39;00m \u001b[38;5;28mself\u001b[39m\u001b[38;5;241m.\u001b[39mobj\u001b[38;5;241m.\u001b[39m_ixs(key, axis\u001b[38;5;241m=\u001b[39maxis)\n",
      "File \u001b[0;32m~/anaconda3/envs/mne/lib/python3.10/site-packages/pandas/core/indexing.py:1455\u001b[0m, in \u001b[0;36m_iLocIndexer._validate_integer\u001b[0;34m(self, key, axis)\u001b[0m\n\u001b[1;32m   1453\u001b[0m len_axis \u001b[38;5;241m=\u001b[39m \u001b[38;5;28mlen\u001b[39m(\u001b[38;5;28mself\u001b[39m\u001b[38;5;241m.\u001b[39mobj\u001b[38;5;241m.\u001b[39m_get_axis(axis))\n\u001b[1;32m   1454\u001b[0m \u001b[38;5;28;01mif\u001b[39;00m key \u001b[38;5;241m>\u001b[39m\u001b[38;5;241m=\u001b[39m len_axis \u001b[38;5;129;01mor\u001b[39;00m key \u001b[38;5;241m<\u001b[39m \u001b[38;5;241m-\u001b[39mlen_axis:\n\u001b[0;32m-> 1455\u001b[0m     \u001b[38;5;28;01mraise\u001b[39;00m \u001b[38;5;167;01mIndexError\u001b[39;00m(\u001b[38;5;124m\"\u001b[39m\u001b[38;5;124msingle positional indexer is out-of-bounds\u001b[39m\u001b[38;5;124m\"\u001b[39m)\n",
      "\u001b[0;31mIndexError\u001b[0m: single positional indexer is out-of-bounds"
     ]
    },
    {
     "data": {
      "image/png": "[encoded data removed]",
      "text/plain": [
       "<Figure size 453.544x280.305 with 10 Axes>"
      ]
     },
     "metadata": {},
     "output_type": "display_data"
    }
   ],
   "source": [
    "fig, ax = plt.subplots(ngroup, ncdt, sharex=False, sharey=False)\n",
    "cbar_ax = fig.add_axes([0.91, 0.2, .01, .6])\n",
    "for i, condition in enumerate(conditions):\n",
    "        for j, group in enumerate(groups):\n",
    "            power = df['power'].loc[df['subject']==subject].loc[df['condition']==condition].loc[df['group']==group]\n",
    "            freqs = df['freqs'].loc[df['subject']==subject].loc[df['condition']==condition].loc[df['group']==group]\n",
    "            time = df['time'].loc[df['subject']==subject].loc[df['condition']==condition].loc[df['group']==group]\n",
    "            power = power.iloc[0]\n",
    "            freqs = freqs.iloc[0]\n",
    "            time = time.iloc[0]\n",
    "            x, y = centers_to_edges(time * 1000, freqs)\n",
    "            mesh = ax[i,j].pcolormesh(x, y, power, cmap='RdBu_r', vmax=vmax, vmin=-vmax)\n",
    "            ax[0,j].set_title(f'{group_dic[group]}')\n",
    "            ax[i,j].set(ylim=freqs[[0, -1]])\n",
    "            if i<=2:\n",
    "                    ax[i,j].set_xticks([]) # (turn off xticks)\n",
    "            if j>=1:\n",
    "                    ax[i,j].set_yticks([]) # (turn off xticks)\n",
    "            ax[-1,j].set_xticks([-500, 0, 500, 1000, 1500])\n",
    "            ax[-1,j].set_xticklabels([-0.5, 0, 0.5, 1, 1.5]) \n",
    "            ax[i,0].set_yticks([0, 30, 60, 90, 120])\n",
    "            ax[i,0].set_yticklabels([0, 30, 60, 90, 120])\n",
    "            ax[i,0].set_ylabel(f\"{condition} (Hz)\")\n",
    "        fig.colorbar(mesh, cax=cbar_ax)\n",
    "        fig.supxlabel(\"Time (ms)\")\n",
    "        fig.suptitle(f\"Time-frequency subject {cohort_dic[subject]}\")\n",
    "        plt.show()"
   ]
  },
  {
   "cell_type": "code",
   "execution_count": 17,
   "id": "e270e550",
   "metadata": {},
   "outputs": [],
   "source": [
    "power = df['power'].loc[df['subject']==subject].loc[df['condition']==condition].loc[df['group']==group]\n",
    "freqs = df['freqs'].loc[df['subject']==subject].loc[df['condition']==condition].loc[df['group']==group]\n",
    "time = df['time'].loc[df['subject']==subject].loc[df['condition']==condition].loc[df['group']==group]"
   ]
  },
  {
   "cell_type": "code",
   "execution_count": 23,
   "id": "5243d0a6",
   "metadata": {},
   "outputs": [],
   "source": [
    "power = df['power'].loc[df['subject']==subject].loc[df['condition']==condition].loc[df['group']==group]"
   ]
  },
  {
   "cell_type": "code",
   "execution_count": 31,
   "id": "bc08e732",
   "metadata": {},
   "outputs": [
    {
     "data": {
      "text/plain": [
       "'Dias'"
      ]
     },
     "execution_count": 31,
     "metadata": {},
     "output_type": "execute_result"
    }
   ],
   "source": [
    "df['power'].loc[df['subject']==subject]"
   ]
  },
  {
   "cell_type": "code",
   "execution_count": 38,
   "id": "bc2918f0",
   "metadata": {},
   "outputs": [
    {
     "data": {
      "text/plain": [
       "'Dias'"
      ]
     },
     "execution_count": 38,
     "metadata": {},
     "output_type": "execute_result"
    }
   ],
   "source": [
    "subject"
   ]
  },
  {
   "cell_type": "code",
   "execution_count": null,
   "id": "eb85f46f",
   "metadata": {},
   "outputs": [],
   "source": []
  },
  {
   "cell_type": "code",
   "execution_count": null,
   "id": "0e0fc37b",
   "metadata": {},
   "outputs": [],
   "source": []
  },
  {
   "cell_type": "code",
   "execution_count": 22,
   "id": "95d54139",
   "metadata": {},
   "outputs": [],
   "source": [
    "# Get arguments from input_config\n",
    "%run ../src/input_config.py"
   ]
  },
  {
   "cell_type": "code",
   "execution_count": 8,
   "id": "e43dc250",
   "metadata": {},
   "outputs": [],
   "source": [
    "fpath = Path('..','data_transfer')\n",
    "fname = \"tf_power_dataframe.pkl\"\n",
    "fpath = fpath.joinpath(fname)\n",
    "df = pd.read_pickle(fpath)"
   ]
  },
  {
   "cell_type": "code",
   "execution_count": 18,
   "id": "e10e996b",
   "metadata": {},
   "outputs": [],
   "source": [
    "# Write plotting function to plot Time freq for each subjects\n",
    "conditions = ['Rest', 'Face', 'Place']\n",
    "groups = ['R','O','F']\n",
    "ngroup = 3\n",
    "ncdt = 3\n",
    "%matplotlib qt\n",
    "vmax = 15\n",
    "vmin = -vmax\n",
    "subject = 'DiAs'\n",
    "df_sub = df['power'].loc[df['subject']==subject]\n",
    "from mne.viz import centers_to_edges\n",
    "fig, ax = plt.subplots(ngroup, ncdt, sharex=True, sharey=True)\n",
    "for i, condition in enumerate(conditions):\n",
    "    for j, group in enumerate(groups):\n",
    "        power = df['power'].loc[df['subject']==subject].loc[df['condition']==condition].loc[df['group']==group]\n",
    "        freqs = df['freqs'].loc[df['subject']==subject].loc[df['condition']==condition].loc[df['group']==group]\n",
    "        time = df['time'].loc[df['subject']==subject].loc[df['condition']==condition].loc[df['group']==group]\n",
    "        power = power.iloc[0]\n",
    "        freqs = freqs.iloc[0]\n",
    "        time = time.iloc[0]\n",
    "        x, y = centers_to_edges(time * 1000, freqs)\n",
    "        mesh = ax[i,j].pcolormesh(x, y, power, cmap='RdBu_r', vmin=vmin, vmax=vmax)\n",
    "        ax[i,j].set_title(f'{group} Power during {condition}')\n",
    "        ax[i,j].set(ylim=[0, 50], xlabel='Time (ms)', ylabel='Freq (Hz)')\n",
    "fig.colorbar(mesh)\n",
    "plt.tight_layout()\n",
    "plt.show()"
   ]
  },
  {
   "cell_type": "code",
   "execution_count": 3,
   "id": "7b411a40",
   "metadata": {},
   "outputs": [],
   "source": [
    "%matplotlib qt\n",
    "%run ../scripts/plot_scripts/plot_time_frequency.py"
   ]
  },
  {
   "cell_type": "code",
   "execution_count": null,
   "id": "1fd5522f",
   "metadata": {},
   "outputs": [],
   "source": []
  },
  {
   "cell_type": "code",
   "execution_count": null,
   "id": "7a097474",
   "metadata": {},
   "outputs": [],
   "source": []
  },
  {
   "cell_type": "code",
   "execution_count": null,
   "id": "b491e6ed",
   "metadata": {},
   "outputs": [],
   "source": []
  },
  {
   "cell_type": "code",
   "execution_count": null,
   "id": "08e546e2",
   "metadata": {},
   "outputs": [],
   "source": []
  },
  {
   "cell_type": "code",
   "execution_count": null,
   "id": "999b8e86",
   "metadata": {},
   "outputs": [],
   "source": []
  },
  {
   "cell_type": "code",
   "execution_count": null,
   "id": "5d80a028",
   "metadata": {},
   "outputs": [],
   "source": []
  }
 ],
 "metadata": {
  "kernelspec": {
   "display_name": "Python 3",
   "language": "python",
   "name": "python3"
  },
  "language_info": {
   "codemirror_mode": {
    "name": "ipython",
    "version": 3
   },
   "file_extension": ".py",
   "mimetype": "text/x-python",
   "name": "python",
   "nbconvert_exporter": "python",
   "pygments_lexer": "ipython3",
   "version": "3.10.5"
  }
 },
 "nbformat": 4,
 "nbformat_minor": 5
}
