{
 "cells": [
  {
   "cell_type": "code",
   "execution_count": 8,
   "id": "019c1132",
   "metadata": {},
   "outputs": [
    {
     "name": "stdout",
     "output_type": "stream",
     "text": [
      "../results/multi_trial_sfc.mat\n"
     ]
    }
   ],
   "source": [
    "from pathlib import Path\n",
    "from scipy.io import loadmat\n",
    "\n",
    "result_path = Path('..','results')\n",
    "fig_path = result_path.expanduser()\n",
    "\n",
    "fname = 'multi_trial_sfc.mat'\n",
    "fpath = result_path.joinpath(fname)\n",
    "print(fpath)\n",
    "sgc = loadmat(fpath)\n",
    "sgc = sgc['dataset']"
   ]
  },
  {
   "cell_type": "code",
   "execution_count": 55,
   "id": "e05ddffa",
   "metadata": {},
   "outputs": [
    {
     "name": "stdout",
     "output_type": "stream",
     "text": [
      "[7, 8, 4, 5, 9, 10]\n"
     ]
    }
   ],
   "source": [
    "indices = sgc[0,2][3][0]\n",
    "iR = list(indices['R'][0][0])\n",
    "iF = list(indices['F'][0][0])\n",
    "iRF = iR + iF\n",
    "print(iRF)"
   ]
  },
  {
   "cell_type": "code",
   "execution_count": 56,
   "id": "7a1b7897",
   "metadata": {},
   "outputs": [
    {
     "name": "stdout",
     "output_type": "stream",
     "text": [
      "{'R': [6, 7], 'F': [3, 4, 8, 9]}\n"
     ]
    }
   ],
   "source": [
    "indices = sgc[0,2][3][0]\n",
    "iR = list(indices['R'][0][0])\n",
    "iR = [iR[i]-1 for i in range(len(iR))]\n",
    "iF = list(indices['F'][0][0])\n",
    "iF = [iF[i]-1 for i in range(len(iF))]\n",
    "indices = {'R': iR, 'F': iF}\n",
    "iRF = iR + iF\n",
    "nchan = len(iRF)\n",
    "print(indices)"
   ]
  },
  {
   "cell_type": "code",
   "execution_count": 50,
   "id": "46e12c11",
   "metadata": {},
   "outputs": [
    {
     "name": "stdout",
     "output_type": "stream",
     "text": [
      "(10, 10, 1025)\n"
     ]
    }
   ],
   "source": [
    "f = sgc[0,2][2]['f'][0][0]\n",
    "print(f.shape)"
   ]
  },
  {
   "cell_type": "code",
   "execution_count": 35,
   "id": "01b53d87",
   "metadata": {},
   "outputs": [
    {
     "name": "stdout",
     "output_type": "stream",
     "text": [
      "dict_items([('R', [7, 8]), ('F', [4, 5, 9, 10])])\n"
     ]
    }
   ],
   "source": [
    "indices = {'R': iR, 'F': iF}\n",
    "print(indices.items())"
   ]
  },
  {
   "cell_type": "code",
   "execution_count": 48,
   "id": "ced2f437",
   "metadata": {},
   "outputs": [
    {
     "name": "stdout",
     "output_type": "stream",
     "text": [
      "F\n"
     ]
    }
   ],
   "source": [
    "i = 4\n",
    "if i in iR:\n",
    "    iGroup = 'R'\n",
    "else:\n",
    "    iGroup = 'F'\n",
    "\n",
    "print(iGroup)"
   ]
  },
  {
   "cell_type": "code",
   "execution_count": null,
   "id": "0fb49976",
   "metadata": {},
   "outputs": [],
   "source": [
    "directions = ((iF,iR),(iR,iF))\n",
    "for i in direction[0]:\n",
    "                for j in direction[1]:\n",
    "                    "
   ]
  },
  {
   "cell_type": "code",
   "execution_count": null,
   "id": "d8468eb6",
   "metadata": {},
   "outputs": [],
   "source": []
  }
 ],
 "metadata": {
  "kernelspec": {
   "display_name": "Python 3",
   "language": "python",
   "name": "python3"
  },
  "language_info": {
   "codemirror_mode": {
    "name": "ipython",
    "version": 3
   },
   "file_extension": ".py",
   "mimetype": "text/x-python",
   "name": "python",
   "nbconvert_exporter": "python",
   "pygments_lexer": "ipython3",
   "version": "3.10.5"
  }
 },
 "nbformat": 4,
 "nbformat_minor": 5
}
