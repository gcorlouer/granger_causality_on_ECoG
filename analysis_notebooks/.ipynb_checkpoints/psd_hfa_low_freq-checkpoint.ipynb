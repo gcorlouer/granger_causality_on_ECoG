{
 "cells": [
  {
   "cell_type": "code",
   "execution_count": 1,
   "id": "fa418659",
   "metadata": {},
   "outputs": [],
   "source": [
    "import mne \n",
    "import matplotlib.pyplot as plt\n",
    "import numpy as np\n",
    "\n",
    "from pathlib import Path\n",
    "from src.preprocessing_lib import EcogReader, prepare_condition_ts, parcellation_to_indices"
   ]
  },
  {
   "cell_type": "code",
   "execution_count": 4,
   "id": "d98842a8",
   "metadata": {},
   "outputs": [],
   "source": [
    "# Parameters to read continuous hfa\n",
    "subject = 'DiAs'\n",
    "stage= 'preprocessed'\n",
    "matlab = False\n",
    "epoch = False\n",
    "path = Path('~','projects', 'cifar', 'data').expanduser()\n",
    "preprocessed_suffix = '_hfb_continuous_raw.fif' "
   ]
  },
  {
   "cell_type": "code",
   "execution_count": 5,
   "id": "d563a622",
   "metadata": {},
   "outputs": [],
   "source": [
    "# Get indices associated with functional group\n",
    "reader = EcogReader(path, subject=subject)\n",
    "df_visual = reader.read_channels_info(fname='visual_channels.csv')\n",
    "indices = parcellation_to_indices(df_visual, parcellation='group', matlab=matlab)"
   ]
  },
  {
   "cell_type": "code",
   "execution_count": 6,
   "id": "ae90f459",
   "metadata": {},
   "outputs": [
    {
     "name": "stdout",
     "output_type": "stream",
     "text": [
      "Opening raw data file /home/guime/projects/cifar/data/derivatives/DiAs/ieeg/DiAs_hfb_continuous_raw.fif...\n",
      "    Range : 0 ... 348212 =      0.000 ...   696.424 secs\n",
      "Ready.\n",
      "Reading 0 ... 348212  =      0.000 ...   696.424 secs...\n"
     ]
    }
   ],
   "source": [
    "# Read continous hfa\n",
    "visual_chan = df_visual['chan_name'].to_list()\n",
    "reader = EcogReader(path, subject=subject, stage=stage,\n",
    "                     preprocessed_suffix=preprocessed_suffix,\n",
    "                     epoch=epoch)\n",
    "hfb = reader.read_ecog()\n",
    "hfb.pick(visual_chan)\n",
    "hfa_rest = hfb.copy().crop(tmin=150, tmax=350)\n",
    "hfa_stim = hfb.copy().crop(tmin=450, tmax=650)"
   ]
  },
  {
   "cell_type": "markdown",
   "id": "2e3de69e",
   "metadata": {},
   "source": [
    "\n",
    "It does not seems very useful to look at low frequency because I do not have enough data per epoch to compute psd of face channel during face and place presentation and compare them. Perhaps more useful with the recall session. \n",
    "\n"
   ]
  }
 ],
 "metadata": {
  "kernelspec": {
   "display_name": "Python 3",
   "language": "python",
   "name": "python3"
  },
  "language_info": {
   "codemirror_mode": {
    "name": "ipython",
    "version": 3
   },
   "file_extension": ".py",
   "mimetype": "text/x-python",
   "name": "python",
   "nbconvert_exporter": "python",
   "pygments_lexer": "ipython3",
   "version": "3.7.11"
  }
 },
 "nbformat": 4,
 "nbformat_minor": 5
}
